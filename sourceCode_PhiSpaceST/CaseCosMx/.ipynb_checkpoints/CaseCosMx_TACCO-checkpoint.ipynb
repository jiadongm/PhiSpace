{
 "cells": [
  {
   "cell_type": "code",
   "execution_count": 154,
   "metadata": {},
   "outputs": [],
   "source": [
    "import scanpy as sc\n",
    "import tacco as tc\n",
    "import anndata as ad\n",
    "\n",
    "import numpy as np\n",
    "import pandas as pd\n",
    "import matplotlib\n",
    "import matplotlib.pyplot as plt"
   ]
  },
  {
   "cell_type": "code",
   "execution_count": 155,
   "metadata": {},
   "outputs": [],
   "source": [
    "VisTissueName = 'P25_T1'"
   ]
  },
  {
   "cell_type": "code",
   "execution_count": 156,
   "metadata": {},
   "outputs": [],
   "source": [
    "dat_dir = \"/data/gpfs/projects/punim0613/JiaDong/PhiSpace/\"\n",
    "reference = ad.read_h5ad(f'{dat_dir}data/LungRef/AzimuthLung2.0_sce_0.1sub_selectFeat.h5ad')"
   ]
  },
  {
   "cell_type": "code",
   "execution_count": 157,
   "metadata": {},
   "outputs": [],
   "source": [
    "qu_vis = ad.read_h5ad(f'{dat_dir}data/Visium_NSCLC/{VisTissueName}/adata.h5ad')"
   ]
  },
  {
   "cell_type": "code",
   "execution_count": null,
   "metadata": {},
   "outputs": [
    {
     "name": "stdout",
     "output_type": "stream",
     "text": [
      "Starting preprocessing\n",
      "Annotation profiles were not found in `reference.varm[\"ann_finest_level\"]`. Constructing reference profiles with `tacco.preprocessing.construct_reference_profiles` and default arguments...\n"
     ]
    }
   ],
   "source": [
    "ann_res = tc.tl.annotate(\n",
    "    qu_vis,\n",
    "    reference, \n",
    "    'ann_finest_level'\n",
    ")"
   ]
  },
  {
   "cell_type": "code",
   "execution_count": null,
   "metadata": {},
   "outputs": [],
   "source": [
    "ann_res"
   ]
  },
  {
   "cell_type": "code",
   "execution_count": null,
   "metadata": {},
   "outputs": [],
   "source": [
    "ann_res.to_csv(\n",
    "    f'{dat_dir}output/Case3/Visium_NSCLC_{VisTissueName}_TACCO.csv'\n",
    ")"
   ]
  },
  {
   "cell_type": "code",
   "execution_count": null,
   "metadata": {},
   "outputs": [],
   "source": []
  },
  {
   "cell_type": "code",
   "execution_count": null,
   "metadata": {},
   "outputs": [],
   "source": []
  },
  {
   "cell_type": "markdown",
   "metadata": {},
   "source": [
    "# Annotate CosMx data"
   ]
  },
  {
   "cell_type": "code",
   "execution_count": null,
   "metadata": {},
   "outputs": [],
   "source": [
    "# dat_dir = \"/home/unimelb.edu.au/jmao1/PhiSpace/\"\n",
    "# reference = ad.read_h5ad(f'{dat_dir}data/LungRef/AzimuthLung2.0_adata_0.1sub.h5ad')\n",
    "# query = ad.read_h5ad(f'{dat_dir}data/CosMx_lung/Lung5_Rep1_adata.h5ad')"
   ]
  },
  {
   "cell_type": "code",
   "execution_count": null,
   "metadata": {},
   "outputs": [],
   "source": [
    "# ann_res = tc.tl.annotate(\n",
    "#     query,\n",
    "#     reference, \n",
    "#     'ann_finest_level'\n",
    "# )\n",
    "# ann_res\n",
    "# ann_res.to_csv(\n",
    "#     f'{dat_dir}output/Case3/CosMx_NSCLC_TACCO.csv'\n",
    "# )"
   ]
  }
 ],
 "metadata": {
  "kernelspec": {
   "display_name": "TACCO",
   "language": "python",
   "name": "tacco"
  },
  "language_info": {
   "codemirror_mode": {
    "name": "ipython",
    "version": 3
   },
   "file_extension": ".py",
   "mimetype": "text/x-python",
   "name": "python",
   "nbconvert_exporter": "python",
   "pygments_lexer": "ipython3",
   "version": "3.10.14"
  }
 },
 "nbformat": 4,
 "nbformat_minor": 4
}
